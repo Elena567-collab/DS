{
  "nbformat": 4,
  "nbformat_minor": 0,
  "metadata": {
    "colab": {
      "provenance": []
    },
    "kernelspec": {
      "name": "python3",
      "display_name": "Python 3"
    },
    "language_info": {
      "name": "python"
    }
  },
  "cells": [
    {
      "cell_type": "markdown",
      "source": [
        "# Структуры. Функции"
      ],
      "metadata": {
        "id": "1jPReH5d8bSh"
      }
    },
    {
      "cell_type": "markdown",
      "source": [
        "**Задание 1.** Напишите функцию для нахождения площади круга. \n",
        "\n",
        "Напомним, что площадь круга вычисляется по следующей формуле \n",
        "$$S = \\pi r^2,$$\n",
        "где $r$ -- радиус круга.\n",
        "\n",
        "Формат выполнения задания:\n",
        "\n",
        "```python\n",
        "#определение функции\n",
        "def f.....\n",
        "\n",
        "#вызов функции и результат ее работы\n",
        "f(1)\n",
        "Площадь круга радиуса 1 равна 3.14 кв.ед.\n",
        "```\n",
        "\n"
      ],
      "metadata": {
        "id": "0SOwEuW08pIX"
      }
    },
    {
      "cell_type": "code",
      "source": [
        "#ваш код здесь\n",
        "# Задание 1"
      ],
      "metadata": {
        "id": "teyrAJVC8bCI"
      },
      "execution_count": null,
      "outputs": []
    },
    {
      "cell_type": "code",
      "source": [
        "# определение функции\n",
        "r=10\n",
        "def f(r,pi=3.14):\n",
        " return r*r*pi\n",
        "# вызов функции и результат ее работы\n",
        "f(r)\n",
        "print('Площадь круга радиуса', r , ' равна', f(r),' кв.ед.')"
      ],
      "metadata": {
        "colab": {
          "base_uri": "https://localhost:8080/"
        },
        "id": "J5UIRzoAaCJc",
        "outputId": "13b69916-d0b9-418e-e111-5f71d53558e4"
      },
      "execution_count": null,
      "outputs": [
        {
          "output_type": "stream",
          "name": "stdout",
          "text": [
            "Площадь круга радиуса 10  равна 314.0  кв.ед.\n"
          ]
        }
      ]
    },
    {
      "cell_type": "markdown",
      "source": [
        "Задание 2. Напишите функцию для нахождения суммы `n` элементов списка.  Если `n` не задано, то функция должна возвращать сумму всех элементов списка. Список значений и `n` задаются пользователем произвольно (либо через клавиатуру, либо через переменные).\n",
        "\n",
        "Формат выполнения задания:\n",
        "\n",
        "```python\n",
        "#определение функции\n",
        "def s.....\n",
        "\n",
        "#вызов функции и результат ее работы\n",
        "list_example = range(-10, 10)\n",
        "n = 2\n",
        "s(list_example, n)\n",
        "Сумма элементов -10, -9 равна -19.\n",
        "\n",
        "s(list_example)\n",
        "Сумма всех элементов списка равна -10.\n",
        "```\n"
      ],
      "metadata": {
        "id": "BQP8xMfH-IBu"
      }
    },
    {
      "cell_type": "code",
      "source": [
        "#Ваш код здесь\n",
        "# Задание 2 вариант 1"
      ],
      "metadata": {
        "id": "KeIvINa2_xRJ"
      },
      "execution_count": null,
      "outputs": []
    },
    {
      "cell_type": "code",
      "source": [
        "# определение функции\n",
        "list_example = range(-10, 10)\n",
        "n=2\n",
        "list_example_1=list_example[ :n]\n",
        "\n",
        "def s(list_example_1):\n",
        "    sum=0\n",
        "    for i in list_example_1:\n",
        "      sum+=1\n",
        "      return list_example_1\n",
        "                                     \n",
        "                                             \n",
        "                                            "
      ],
      "metadata": {
        "id": "gAbkpLKlaGnO"
      },
      "execution_count": null,
      "outputs": []
    },
    {
      "cell_type": "code",
      "source": [
        "# вызов функции и результат ее работы\n",
        "s(list_example_1)\n",
        "print('Сумма элементов', (list_example_1[0], list_example_1[1]),' равна', sum(list_example_1))"
      ],
      "metadata": {
        "colab": {
          "base_uri": "https://localhost:8080/"
        },
        "id": "sYSD6aDHjeoS",
        "outputId": "5aa27506-4937-4092-9aa8-0b0e4335267b"
      },
      "execution_count": 27,
      "outputs": [
        {
          "output_type": "stream",
          "name": "stdout",
          "text": [
            "Сумма элементов (-10, -9)  равна -19\n"
          ]
        }
      ]
    },
    {
      "cell_type": "code",
      "source": [
        "s(list_example)\n",
        "print('Сумма всех элементов списка равна', sum(list_example))  "
      ],
      "metadata": {
        "colab": {
          "base_uri": "https://localhost:8080/"
        },
        "id": "a6TyA55jmBTn",
        "outputId": "891e445f-7e67-4dcf-f84c-6acb7edbdc86"
      },
      "execution_count": 29,
      "outputs": [
        {
          "output_type": "stream",
          "name": "stdout",
          "text": [
            "Сумма всех элементов списка равна -10\n"
          ]
        }
      ]
    },
    {
      "cell_type": "code",
      "source": [
        "#задача 2 вариант 2\n",
        "def sum_list(lst:list, n = None) -> float:\n",
        "    if n == None:\n",
        "        return print(f\"Сумма элементов {', '.join(map(str,lst[:n]))} равна {sum(lst[::])}.\")\n",
        "    elif n > len(lst):\n",
        "        return print('В списке нет столько элементов')\n",
        "    else:\n",
        "        return print(f\"Сумма элементов {', '.join(map(str,lst[:n]))} равна {sum(lst[:n])}.\")\n",
        "sum_list([-10,-9,-8,-7,-6,-5,-4,-3,-2,-1,0,1,2,3,4,5,6,7,8,9,10],2)\n",
        "sum_list([-10,-9,-8,-7,-6,-5,-4,-3,-2,-1,0,1,2,3,4,5,6,7,8,9,10])"
      ],
      "metadata": {
        "colab": {
          "base_uri": "https://localhost:8080/"
        },
        "id": "u0HSjqtaXSzk",
        "outputId": "189eba14-d6eb-4404-a4a1-6134e3a6dda7"
      },
      "execution_count": 86,
      "outputs": [
        {
          "output_type": "stream",
          "name": "stdout",
          "text": [
            "Сумма элементов -10, -9 равна -19.\n",
            "Сумма элементов -10, -9 равна -19.\n"
          ]
        }
      ]
    },
    {
      "cell_type": "markdown",
      "source": [
        "Задание 3. Пусть дан список элементов \n",
        "```python\n",
        "value = [12, 13, 2, 4, 13, 5, 6, 7, 8, 8, 8, 8, 8, 10]\n",
        "```\n",
        "Напишите функции для нахождения: \n",
        "- [выборочного среднего значения](https://ru.wikipedia.org/wiki/%D0%92%D1%8B%D0%B1%D0%BE%D1%80%D0%BE%D1%87%D0%BD%D0%BE%D0%B5_%D1%81%D1%80%D0%B5%D0%B4%D0%BD%D0%B5%D0%B5);\n",
        "- [медианы](https://ru.wikipedia.org/wiki/%D0%9C%D0%B5%D0%B4%D0%B8%D0%B0%D0%BD%D0%B0_(%D1%81%D1%82%D0%B0%D1%82%D0%B8%D1%81%D1%82%D0%B8%D0%BA%D0%B0));\n",
        "- [моды](https://ru.wikipedia.org/wiki/%D0%9C%D0%BE%D0%B4%D0%B0_(%D1%81%D1%82%D0%B0%D1%82%D0%B8%D1%81%D1%82%D0%B8%D0%BA%D0%B0)#:~:text=%D0%9C%D0%BE%CC%81%D0%B4%D0%B0%20%E2%80%94%20%D0%BE%D0%B4%D0%BD%D0%BE%20%D0%B8%D0%BB%D0%B8%20%D0%BD%D0%B5%D1%81%D0%BA%D0%BE%D0%BB%D1%8C%D0%BA%D0%BE%20%D0%B7%D0%BD%D0%B0%D1%87%D0%B5%D0%BD%D0%B8%D0%B9,%D0%BC%D0%BE%D0%B4%D0%B0%20%E2%80%94%206%20%D0%B8%209).\n",
        "\n",
        "Использовать встроенные методы для расчета указанных статистик **нельзя**. \n",
        " \n",
        "Формат выполнения задания:\n",
        "\n",
        "```python\n",
        "#определение функций\n",
        "def mean.....\n",
        "def median.....\n",
        "def mode.....\n",
        "\n",
        "#вызов функций и результат их работы\n",
        "value = [12, 13, 2, 4, 13, 5, 6, 7, 8, 8, 8, 8, 8, 10]\n",
        "mean(value)\n",
        "Выборочное среднее равно 8.0.\n",
        "```\n"
      ],
      "metadata": {
        "id": "Ymy10N8dAlrQ"
      }
    },
    {
      "cell_type": "code",
      "source": [
        "#Ваш код здесь\n",
        "#Задание 3"
      ],
      "metadata": {
        "id": "003vzV47EOE-"
      },
      "execution_count": 76,
      "outputs": []
    },
    {
      "cell_type": "code",
      "source": [
        "value = [12, 13, 2, 4, 13, 5, 6, 7, 8, 8, 8, 8, 8, 10]\n",
        "def mean_my(lst:list)->float:\n",
        "    return sum(lst)/len(lst)\n",
        "print(\"Выборочное среднее равно\", mean_my(value))"
      ],
      "metadata": {
        "id": "M1oxnLqVaLTq",
        "colab": {
          "base_uri": "https://localhost:8080/"
        },
        "outputId": "5b140985-5368-4840-d97a-ddac190ea889"
      },
      "execution_count": 91,
      "outputs": [
        {
          "output_type": "stream",
          "name": "stdout",
          "text": [
            "Выборочное среднее равно 8.0\n"
          ]
        }
      ]
    },
    {
      "cell_type": "code",
      "source": [
        "value = [12, 13, 2, 4, 13, 5, 6, 7, 8, 8, 8, 8, 8, 10]\n",
        "lst=list()\n",
        "def median_my(lst : list) -> float:\n",
        "    lst.sort() # варианционный ряд -- элементы по возрастанию\n",
        "    if len(lst) % 2: # количество элементов в списке нечетно\n",
        "        return lst[int((len(lst) - 1) / 2)]\n",
        "    else: # количество элементов в списке четно\n",
        "        return (lst[int(len(lst) / 2)] + lst[int((len(lst) - 2) / 2)])/2\n",
        "print(\"Вычисление медианы\", median_my([12, 13, 2, 4, 13, 5, 6, 7, 8, 8, 8, 8, 8, 10]))"
      ],
      "metadata": {
        "id": "ogen4UCNixZY"
      },
      "execution_count": null,
      "outputs": []
    },
    {
      "cell_type": "code",
      "source": [
        "def mode_my(lst : list) -> float:\n",
        "    list_mode = list() \n",
        "    dict_value = dict.fromkeys(set(lst), 0)\n",
        "    for key in dict_value.keys():\n",
        "        dict_value[key] = lst.count(key)\n",
        "    max_value = max(dict_value.values())\n",
        "    for key,value in dict_value.items():\n",
        "        if max_value == value:\n",
        "            list_mode.append(key) \n",
        "        return dict_value, list_mode \n",
        "\n",
        "\n",
        "    "
      ],
      "metadata": {
        "id": "lu4u5FSlhz8b"
      },
      "execution_count": 103,
      "outputs": []
    },
    {
      "cell_type": "code",
      "source": [
        "print('Вычмсоение моды', mode_my([12, 13, 2, 4, 13, 5, 6, 7, 8, 8, 8, 8, 8, 10]))"
      ],
      "metadata": {
        "colab": {
          "base_uri": "https://localhost:8080/"
        },
        "id": "tiECRH8xbwfo",
        "outputId": "7c4eaa2a-7d6f-48b8-8bc6-22a436ef2be8"
      },
      "execution_count": 105,
      "outputs": [
        {
          "output_type": "stream",
          "name": "stdout",
          "text": [
            "({2: 1, 4: 1, 5: 1, 6: 1, 7: 1, 8: 5, 10: 1, 12: 1, 13: 2}, [])\n"
          ]
        }
      ]
    },
    {
      "cell_type": "markdown",
      "source": [
        "Задание 4. Пусть общий доход складывается только из следующих источников: заработной платы, доходов по вкладам, дивидентов, пособия. Напишите функцию, рассчитывающую для Вас общий доход. Предполагается, что некоторых источников дохода у Вас может не быть. Попробуйте задать параметры в виде 1) кортежа; 2) словаря. \n",
        "\n",
        "\n",
        "Формат выполнения задания:\n",
        "\n",
        "```python\n",
        "#определение функций\n",
        "def income.....\n",
        "\n",
        "#вызов функциb и результат ее работы\n",
        "income(100)\n",
        "Общий доход равен 1000.\n",
        "\n",
        "income(100, 10)\n",
        "Общий доход равен 1010.\n",
        "```"
      ],
      "metadata": {
        "id": "9KvN_a0TDMUe"
      }
    },
    {
      "cell_type": "code",
      "source": [
        "#Ваш код здесь"
      ],
      "metadata": {
        "id": "adDyNSDGC7pP"
      },
      "execution_count": null,
      "outputs": []
    },
    {
      "cell_type": "code",
      "source": [
        "#задача 4\n",
        "# кортеж\n",
        "def zp_tuple(*args):\n",
        "    return sum(args) \n"
      ],
      "metadata": {
        "id": "G1ft_kIioU5h"
      },
      "execution_count": 45,
      "outputs": []
    },
    {
      "cell_type": "code",
      "source": [
        "# вызов функциb и результат ее работы\n",
        "zp_tuple(100, 100, 10, 500,200,50)\n",
        "print('Общий доход равен', zp_tuple(100, 100, 10, 500,200,50))"
      ],
      "metadata": {
        "colab": {
          "base_uri": "https://localhost:8080/"
        },
        "id": "LHjUY1AaoeUS",
        "outputId": "cb795bd0-a842-470b-fe3e-d4a7b2422464"
      },
      "execution_count": 47,
      "outputs": [
        {
          "output_type": "stream",
          "name": "stdout",
          "text": [
            "Общий доход равен 960\n"
          ]
        }
      ]
    },
    {
      "cell_type": "code",
      "source": [
        "# словарь\n",
        "def zp_dict(**kwargs):\n",
        "    return sum(kwargs.values()) "
      ],
      "metadata": {
        "id": "9a79OaHofEll"
      },
      "execution_count": 23,
      "outputs": []
    },
    {
      "cell_type": "code",
      "source": [
        "# вызов функции и результат ее работы\n",
        "zp_dict(a=100,b=10,c=100,d=500,h=50,e=200)\n",
        "print('Общий доход равен', zp_dict(a=100,b=10,c=100,d=500,h=50,e=200))\n"
      ],
      "metadata": {
        "id": "nMUwLj450Flu",
        "colab": {
          "base_uri": "https://localhost:8080/"
        },
        "outputId": "72d0a38c-853c-4b0e-cc7d-31a12117a061"
      },
      "execution_count": 48,
      "outputs": [
        {
          "output_type": "stream",
          "name": "stdout",
          "text": [
            "Общий доход равен 960\n"
          ]
        }
      ]
    }
  ]
}