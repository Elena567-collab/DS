{
  "nbformat": 4,
  "nbformat_minor": 0,
  "metadata": {
    "colab": {
      "provenance": []
    },
    "kernelspec": {
      "name": "python3",
      "display_name": "Python 3"
    },
    "language_info": {
      "name": "python"
    }
  },
  "cells": [
    {
      "cell_type": "markdown",
      "source": [
        "Шаг 1.  Изучите материалы лекционных и практических занятий по темам раздела 2.\n",
        "\n",
        "Шаг 2. Выполните типовые задания по работе с выражениями, циклами и условиями на языке Python (Алгоритм выполнения представлен в практическом занятии по теме 2.1)."
      ],
      "metadata": {
        "id": "6IdQ76KIfNOy"
      }
    },
    {
      "cell_type": "markdown",
      "source": [
        "Задача 1. Создайте программу, запрашивающую у пользователя два целых числа $a$ и $b$, ввод которых осуществляется через символ пробела, т.е. числа $a$ и $b$ вводятся в одной строке через пробел. Выведите на экран результаты следующих математических операций (предполагается, что соответствующие операции определены):\n",
        "- сумма `a` и `b`;\n",
        "- разность `a` и `b`;\n",
        "- произведение `a` и `b`;\n",
        "- частное от деления `a` на `b`;\n",
        "- остаток от деления `a` на `b`;\n",
        "- десятичный логарифм числа `a;\n",
        "- результат возведения числа `a` в степень `b`;\n",
        "- квадратный корень из числа `a`;\n",
        "- результат умножения числа $e$ на `b`.    \n",
        "\n",
        "Примечание: рекомендуется \n",
        "- для ввода чисел использовать функцию [`input()`](https://pythonru.com/osnovy/poluchenie-polzovatelskogo-vvoda-v-python-s-input);\n",
        "- для выделения из строки 1-го и 2-го чисел использовать метод [`.split()`](https://pythonru.com/baza-znanij/razdelit-stroku-split); \n",
        "- для выполнения некоторых вычислений воспользоваться функциями библиотеки `math`; \n",
        "- вывод результата операций организовать с помощью функции [`print()`](https://pythonru.com/osnovy/python-print).\n",
        "\n",
        "Напомним, что подключить библиотеку можно следующим способом\n",
        "```python\n",
        "import math\n",
        "```"
      ],
      "metadata": {
        "id": "JlrxthjqYnPB"
      }
    },
    {
      "cell_type": "code",
      "source": [
        "# Ваш код здесь\n",
        "import math\n",
        "# задание 1\n",
        "a, b = map (int, input ().split ())\n",
        "# задание 2\n",
        "print('Сумма', a+b)\n",
        "# задание 3\n",
        "print('Разность', a-b)\n",
        "# задание 4\n",
        "print('Произведение', a*b)\n",
        "# задание 5\n",
        "print('Частное', a/b)\n",
        "# задание 6\n",
        "print('Остаток от деления', a%b)\n",
        "# задание 7\n",
        "print('Десятичный логарифм', math.log10(a))\n",
        "# задание 8\n",
        "print('Степень', a**b)\n",
        "# задание 9\n",
        "print('Корень квадратный', math.sqrt(a))\n",
        "# задание 10\n",
        "print('Результат е на b', math.e*b)\n",
        "\n"
      ],
      "metadata": {
        "colab": {
          "base_uri": "https://localhost:8080/"
        },
        "outputId": "9043905f-ddbe-4677-ee5b-0973776f684a",
        "id": "nqh314MKD8EX"
      },
      "execution_count": null,
      "outputs": [
        {
          "output_type": "stream",
          "name": "stdout",
          "text": [
            "10 5\n",
            "Сумма 15\n",
            "Разность 5\n",
            "Произведение 50\n",
            "Частное 2.0\n",
            "Остаток от деления 0\n",
            "Десятичный логарифм 1.0\n",
            "Степень 100000\n",
            "Корень квадратный 3.1622776601683795\n",
            "Результат е на b 13.591409142295225\n"
          ]
        }
      ]
    },
    {
      "cell_type": "markdown",
      "source": [
        "Задача 2. Используя функции `range()` и `list()`, задайте список чисел в интервале $(1,20)$ с шагом 3. Для данного списка выполните следующие преобразования: \n",
        "\n",
        "1. С помощью функции `print()` напечатайте длину списка;\n",
        "2. Выведите все элементы списка, начиная со второй позиции; \n",
        "3. Выведите все четные элементы списка;\n",
        "4. Выведите все элементы списка, делящиеся на 5 без остатка. Если таких элементов нет, то должна выводиться надпись \"Элементов, делящихся на 5, нет\". Допускается использовать цикл `for`;\n",
        "5. Отсортируйте список в порядке убывания;\n",
        "6. Используя функции `map()` и `pow()`, рассчитайте квадраты элементов исходного списка. *Подсказка: для того, чтобы задать список из одинаковых элементов требуемой длины можно воспользоваться следующей конструкцией:\n",
        "```python\n",
        ">>> lenght = 3\n",
        ">>> [2]*lenght\n",
        "[2,2,2]\n",
        "```     \n",
        "где `lenght` -- число, определяющее требуемое количество элементов списка;\n",
        "7. Используя срезы, выведите элементы списка в обратном порядке;\n",
        "8. Рассчитайте для элементов списка выборочное среднее. <u>Использовать специальные библиотеки и встроенные методы нельзя</u>. Напомним, что для набора чисел $x_i$, $i=\\overline{1,n}$, выборочное среднее определяется по следующей формуле \n",
        "\n",
        "$$\n",
        "\\bar{x} = \\dfrac{1}{n}\\sum\\limits_{i=1}^{n}x_i.\n",
        "$$    \n",
        "\n",
        "Примечание: методы для работы со списками можно посмотреть [здесь](https://pythonworld.ru/tipy-dannyx-v-python/spiski-list-funkcii-i-metody-spiskov.html)."
      ],
      "metadata": {
        "id": "goFym0_HmR42"
      }
    },
    {
      "cell_type": "code",
      "source": [
        " # Ваш код здесь\n",
        "\n",
        "\n",
        "num=num[:(n)]\n",
        "summa=0\n",
        "count=0\n",
        "for i in num:\n",
        "  summa+=i\n",
        "  count+=1\n",
        "  print(summa, count)\n",
        "  summa=summa/n\n",
        "print(summa)\n"
      ],
      "metadata": {
        "id": "mjtLZyT4hXF9"
      },
      "execution_count": null,
      "outputs": []
    },
    {
      "cell_type": "code",
      "source": [
        "#задание1\n",
        "list_1=list(range(1,20,3))\n",
        "print(list_1)\n",
        "print('длина списка',len(list_1))"
      ],
      "metadata": {
        "colab": {
          "base_uri": "https://localhost:8080/"
        },
        "id": "4LPiWniVXyGC",
        "outputId": "5d30eb16-7599-49c5-b134-b921d574ca79"
      },
      "execution_count": null,
      "outputs": [
        {
          "output_type": "stream",
          "name": "stdout",
          "text": [
            "[1, 4, 7, 10, 13, 16, 19]\n",
            "длина списка 7\n"
          ]
        }
      ]
    },
    {
      "cell_type": "code",
      "source": [
        "#задание 2\n",
        "# вариант1\n",
        "list_1=list(range(1,20,3))\n",
        "list_1=[*range(1,20,3)] [1:]\n",
        "                    \n",
        "print(list_1)\n"
      ],
      "metadata": {
        "colab": {
          "base_uri": "https://localhost:8080/"
        },
        "id": "b1zt3GfeX5b9",
        "outputId": "0c904a61-575d-4291-e3b9-884186e4121a"
      },
      "execution_count": null,
      "outputs": [
        {
          "output_type": "stream",
          "name": "stdout",
          "text": [
            "[4, 7, 10, 13, 16, 19]\n"
          ]
        }
      ]
    },
    {
      "cell_type": "code",
      "source": [
        "# вариант2\n",
        "list_1[1:]"
      ],
      "metadata": {
        "colab": {
          "base_uri": "https://localhost:8080/"
        },
        "id": "cX0l9HvfY5Tm",
        "outputId": "f65461cb-d1af-429a-d938-6fa10b811036"
      },
      "execution_count": null,
      "outputs": [
        {
          "output_type": "execute_result",
          "data": {
            "text/plain": [
              "[4, 7, 10, 13, 16, 19]"
            ]
          },
          "metadata": {},
          "execution_count": 10
        }
      ]
    },
    {
      "cell_type": "code",
      "source": [
        "#задание 3\n",
        "# вариант 1\n",
        "list_1=list(range(1,20,3))\n",
        "for i in list_1:\n",
        "    if i%2==0:\n",
        "        print(i)\n"
      ],
      "metadata": {
        "colab": {
          "base_uri": "https://localhost:8080/"
        },
        "id": "iNeVbUypZbHT",
        "outputId": "f12e9116-ccff-438d-8d3b-2b04c80a0314"
      },
      "execution_count": null,
      "outputs": [
        {
          "output_type": "stream",
          "name": "stdout",
          "text": [
            "4\n",
            "10\n",
            "16\n"
          ]
        }
      ]
    },
    {
      "cell_type": "code",
      "source": [
        "#Выведите все четные элементы списка\n",
        "#вариант 2\n",
        "div_2 = list()\n",
        "for value in lst:\n",
        "    if value % 2 == 0:\n",
        "        div_2.append(value)\n",
        "\n",
        "print('Четные элементы спиcка', div_2)"
      ],
      "metadata": {
        "colab": {
          "base_uri": "https://localhost:8080/"
        },
        "id": "aZtoUy4HQrn6",
        "outputId": "f2f224a5-76d7-48b0-8270-85d976418f74"
      },
      "execution_count": null,
      "outputs": [
        {
          "output_type": "stream",
          "name": "stdout",
          "text": [
            "Четные элементы спиcка [4, 10, 16]\n"
          ]
        }
      ]
    },
    {
      "cell_type": "code",
      "source": [
        "#задание 4\n",
        "#вариант 1\n",
        "list_1=list(range(1,20,3))\n",
        "count=0\n",
        "for i in list_1:\n",
        "    if i%5==0:\n",
        "       print([i])\n",
        "       count+=1\n",
        "if count==0: \n",
        "   print('Элементов, делящихся на 5, нет')\n",
        "  "
      ],
      "metadata": {
        "colab": {
          "base_uri": "https://localhost:8080/"
        },
        "id": "fiaAi_bvae-6",
        "outputId": "a4c9355d-bae6-4022-9ceb-37be5d38c9c5"
      },
      "execution_count": null,
      "outputs": [
        {
          "output_type": "stream",
          "name": "stdout",
          "text": [
            "[10]\n"
          ]
        }
      ]
    },
    {
      "cell_type": "code",
      "source": [
        "#Выведите все элементы списка делящиеся на 5 без остатка. \n",
        "#Если таких элементов нет, то должна выводиться надпись \"Элементов, делящихся на 5, нет\"\n",
        "# вариант 2\n",
        "list_1 = list(range(1,20,3))\n",
        "div_5 = list()\n",
        "for value in list_1:\n",
        "    if value % 5 == 0:\n",
        "        div_5.append(value)\n",
        "\n",
        "if len(div_5) > 0:\n",
        "    print('Элементы спиcка, делящиеся на 5:', ', '.join(map(str, div_5))) # map ['1', '2'] -> join: 1, 2\n",
        "else:\n",
        "    print('Нет элементов')"
      ],
      "metadata": {
        "colab": {
          "base_uri": "https://localhost:8080/"
        },
        "id": "MjHEXqjRazXW",
        "outputId": "70b24172-f09d-4f4f-e186-83a53c62c811"
      },
      "execution_count": null,
      "outputs": [
        {
          "output_type": "stream",
          "name": "stdout",
          "text": [
            "Элементы спиcка, делящиеся на 5: 10\n"
          ]
        }
      ]
    },
    {
      "cell_type": "code",
      "source": [
        "#задание 5\n",
        "list_1=(list(range(1,20,3)))\n",
        "list_1.reverse()\n",
        "print(list_1)"
      ],
      "metadata": {
        "colab": {
          "base_uri": "https://localhost:8080/"
        },
        "id": "pPgga6mpaXSr",
        "outputId": "dec7dc75-b798-44ea-d415-a8b103da66a0"
      },
      "execution_count": null,
      "outputs": [
        {
          "output_type": "stream",
          "name": "stdout",
          "text": [
            "[19, 16, 13, 10, 7, 4, 1]\n"
          ]
        }
      ]
    },
    {
      "cell_type": "code",
      "source": [
        "# задание 6\n",
        "#вариант 1\n",
        "list_1=[i for i in range(1,20,3)]\n",
        "list_2 = list(map(lambda x: x**3, list_1))\n",
        "print(list_2)\n",
        "#вариант 2\n",
        "def square(list_1):\n",
        "  return list_1**3\n",
        "  list_1=(list(range(1,20,3)))\n",
        "squarte=map(square,list_1)\n",
        "list(squarte)"
      ],
      "metadata": {
        "colab": {
          "base_uri": "https://localhost:8080/"
        },
        "id": "XlGjwplAdl0t",
        "outputId": "06bb4a82-d14c-425a-d538-854b25345e08"
      },
      "execution_count": null,
      "outputs": [
        {
          "output_type": "stream",
          "name": "stdout",
          "text": [
            "[1, 64, 343, 1000, 2197, 4096, 6859]\n"
          ]
        },
        {
          "output_type": "execute_result",
          "data": {
            "text/plain": [
              "[1, 64, 343, 1000, 2197, 4096, 6859]"
            ]
          },
          "metadata": {},
          "execution_count": 27
        }
      ]
    },
    {
      "cell_type": "code",
      "source": [
        "# задание 7\n",
        "list_1 =list(range(1,20,3))\n",
        "list_1[len(list_1)-1::-1]\n",
        "\n"
      ],
      "metadata": {
        "colab": {
          "base_uri": "https://localhost:8080/"
        },
        "id": "_slG8eB-d7SK",
        "outputId": "a96c33df-c2b4-4f37-f617-2d801f89c56b"
      },
      "execution_count": null,
      "outputs": [
        {
          "output_type": "execute_result",
          "data": {
            "text/plain": [
              "[19, 16, 13, 10, 7, 4, 1]"
            ]
          },
          "metadata": {},
          "execution_count": 33
        }
      ]
    },
    {
      "cell_type": "code",
      "source": [
        "# задание 8\n",
        "list_1=list(range(1,20,3))\n",
        "#Рассчитайте для элементов списка выборочное среднее.\n",
        "mean = 0 \n",
        "for value in list_1:\n",
        "    mean += value/len(list_1)\n",
        "print('Выборочное среднее', round(mean, 2))"
      ],
      "metadata": {
        "colab": {
          "base_uri": "https://localhost:8080/"
        },
        "id": "4EiQvtZedwW5",
        "outputId": "d5958e8a-2948-416b-944f-04deb8b4de78"
      },
      "execution_count": null,
      "outputs": [
        {
          "output_type": "stream",
          "name": "stdout",
          "text": [
            "Выборочное среднее 10.0\n"
          ]
        }
      ]
    },
    {
      "cell_type": "markdown",
      "source": [
        "Задача 3. В течение недели каждый день в полдень проводились измерения темпратуры воздуха. Результаты представлены в следующей таблице:\n",
        "\n",
        "|День недели| Температура воздуха по шкале Цельсиа|\n",
        "|--:|--:|\n",
        "|понедельник | 12.0 |\n",
        "|вторник | 12.0 |\n",
        "|среда | 17.0 |\n",
        "|четверг | 17.0 |\n",
        "|пятница | 14.3 |\n",
        "|суббота | 11.9 |\n",
        "|воскресенье | 12.0|\n",
        "\n",
        "Ипользуя изученные Вами типы данных, представьте эту информацию в виде какой-либо структуры (строка, список, словарь, множество, кортеж) и  ответьте на следующие вопросы:\n",
        "- какова была ежедневная температура по шкале Фаренгейта (для каждого дня результат перевода оформить в виде кортежа $(C, F)$, где $C$ -- исходная температура, $F$ -- температура по шкале Фаренгейта);\n",
        "- в какой день(дни) наблюдалась максимальная/минимальная температура воздуха;\n",
        "- чему равно среднее значение температуры за неделю;\n",
        "- чему равно модальное значение ([мода](https://ru.wikipedia.org/wiki/%D0%9C%D0%BE%D0%B4%D0%B0_(%D1%81%D1%82%D0%B0%D1%82%D0%B8%D1%81%D1%82%D0%B8%D0%BA%D0%B0)#:~:text=%D0%9C%D0%BE%CC%81%D0%B4%D0%B0%20%E2%80%94%20%D0%B7%D0%BD%D0%B0%D1%87%D0%B5%D0%BD%D0%B8%D0%B5%20%D0%B2%D0%BE%20%D0%BC%D0%BD%D0%BE%D0%B6%D0%B5%D1%81%D1%82%D0%B2%D0%B5%20%D0%BD%D0%B0%D0%B1%D0%BB%D1%8E%D0%B4%D0%B5%D0%BD%D0%B8%D0%B9,%D0%BC%D0%BE%D0%B6%D0%BD%D0%BE%20%D1%81%D0%BA%D0%B0%D0%B7%D0%B0%D1%82%D1%8C%2C%20%D1%87%D1%82%D0%BE%20%D1%81%D0%BE%D0%B2%D0%BE%D0%BA%D1%83%D0%BF%D0%BD%D0%BE%D1%81%D1%82%D1%8C%20%D0%BC%D1%83%D0%BB%D1%8C%D1%82%D0%B8%D0%BC%D0%BE%D0%B4%D0%B0%D0%BB%D1%8C%D0%BD%D0%B0.)) температуры за неделю. В какие дни она наблюдалась?; \n",
        "- будем считать, что <<день прохладный>>, если температура воздуха строго ниже 14 градусов по шкале Цельсиа, в противном случае <<день теплый>>. Выведите список <<прохладных>> и <<теплых>> дней недели."
      ],
      "metadata": {
        "id": "UImciSdyeEDM"
      }
    },
    {
      "cell_type": "markdown",
      "source": [],
      "metadata": {
        "id": "lZMJbuQuXevc"
      }
    },
    {
      "cell_type": "code",
      "source": [
        "# Ваш код здесь\n",
        "# представьте эту информацию в виде какой-либо структуры (строка, список, словарь, множество, кортеж)\n",
        "# какова была ежедневная температура по шкале Фаренгейта \n",
        "\n",
        "days = ['понедельник', 'вторник', 'среда', 'четверг', 'пятница', 'суббота', 'воскресенье']\n",
        "temperature = [12, 12, 17, 17, 14.3, 11.9, 12]\n",
        "week = dict(zip(days, temperature))\n",
        "\n"
      ],
      "metadata": {
        "id": "k0lurEEkdog7"
      },
      "execution_count": null,
      "outputs": []
    },
    {
      "cell_type": "code",
      "source": [
        "#какова была ежедневная температура по шкале Фаренгейта \n",
        "#(для каждого дня результат перевода оформить в виде кортежа  (C,F) , \n",
        "#где  C  -- исходная температура,  F  -- температура по шкале Фаренгейта);\n",
        "# вариант 1\n",
        "# week_temp_f = {key:(value, round(9/5*value + 32, 2)) for key, value in week.items()}\n",
        "# week_temp_f\n",
        "\n",
        "# вариант 2\n",
        "week_temp_f = dict.fromkeys(days, None)\n",
        "for key, value in week.items():\n",
        "    week_temp_f[key] = (value, round(9/5*value + 32, 2))\n",
        "print(week_temp_f)                   \n",
        "\n"
      ],
      "metadata": {
        "colab": {
          "base_uri": "https://localhost:8080/"
        },
        "id": "j4ZgbcqLi7tZ",
        "outputId": "65334e2f-9e27-4260-9cda-fdc338255fa4"
      },
      "execution_count": null,
      "outputs": [
        {
          "output_type": "stream",
          "name": "stdout",
          "text": [
            "{'понедельник': (12, 53.6), 'вторник': (12, 53.6), 'среда': (17, 62.6), 'четверг': (17, 62.6), 'пятница': (14.3, 57.74), 'суббота': (11.9, 53.42), 'воскресенье': (12, 53.6)}\n"
          ]
        }
      ]
    },
    {
      "cell_type": "code",
      "source": [
        "#в какой день(дни) наблюдалась максимальная/минимальная температура воздуха;\n",
        "days = ['понедельник', 'вторник', 'среда', 'четверг', 'пятница', 'суббота', 'воскресенье']\n",
        "temperature = [12, 12, 17, 17, 14.3, 11.9, 12]\n",
        "week = dict(zip(days, temperature))\n",
        "\n",
        "min_temp = min(week.values()) \n",
        "max_temp = max(week.values())\n",
        "lst_min_days = list()\n",
        "lst_max_days = list()\n",
        "\n",
        "for i in week.keys():\n",
        "    if week[i] == min_temp:\n",
        "        lst_min_days.append(i)\n",
        "    elif week[i] == max_temp:\n",
        "        lst_max_days.append(i)\n",
        "\n",
        "print(lst_min_days, lst_max_days)\n"
      ],
      "metadata": {
        "colab": {
          "base_uri": "https://localhost:8080/",
          "height": 244
        },
        "id": "E_yKDoeLi9Y9",
        "outputId": "0f1cc032-380d-4606-9598-3fb00c3b940d"
      },
      "execution_count": null,
      "outputs": [
        {
          "output_type": "error",
          "ename": "TypeError",
          "evalue": "ignored",
          "traceback": [
            "\u001b[0;31m---------------------------------------------------------------------------\u001b[0m",
            "\u001b[0;31mTypeError\u001b[0m                                 Traceback (most recent call last)",
            "\u001b[0;32m<ipython-input-63-d2bdc96f4242>\u001b[0m in \u001b[0;36m<cell line: 8>\u001b[0;34m()\u001b[0m\n\u001b[1;32m      6\u001b[0m \u001b[0mmin_temp\u001b[0m \u001b[0;34m=\u001b[0m \u001b[0mmin\u001b[0m\u001b[0;34m(\u001b[0m\u001b[0mweek\u001b[0m\u001b[0;34m.\u001b[0m\u001b[0mvalues\u001b[0m\u001b[0;34m(\u001b[0m\u001b[0;34m)\u001b[0m\u001b[0;34m)\u001b[0m\u001b[0;34m\u001b[0m\u001b[0;34m\u001b[0m\u001b[0m\n\u001b[1;32m      7\u001b[0m \u001b[0mmax_temp\u001b[0m \u001b[0;34m=\u001b[0m \u001b[0mmax\u001b[0m\u001b[0;34m(\u001b[0m\u001b[0mweek\u001b[0m\u001b[0;34m.\u001b[0m\u001b[0mvalues\u001b[0m\u001b[0;34m(\u001b[0m\u001b[0;34m)\u001b[0m\u001b[0;34m)\u001b[0m\u001b[0;34m\u001b[0m\u001b[0;34m\u001b[0m\u001b[0m\n\u001b[0;32m----> 8\u001b[0;31m \u001b[0mlst_min_days\u001b[0m \u001b[0;34m=\u001b[0m \u001b[0mlist\u001b[0m\u001b[0;34m(\u001b[0m\u001b[0;34m)\u001b[0m\u001b[0;34m\u001b[0m\u001b[0;34m\u001b[0m\u001b[0m\n\u001b[0m\u001b[1;32m      9\u001b[0m \u001b[0mlst_max_days\u001b[0m \u001b[0;34m=\u001b[0m \u001b[0mlist\u001b[0m\u001b[0;34m(\u001b[0m\u001b[0;34m)\u001b[0m\u001b[0;34m\u001b[0m\u001b[0;34m\u001b[0m\u001b[0m\n\u001b[1;32m     10\u001b[0m \u001b[0;34m\u001b[0m\u001b[0m\n",
            "\u001b[0;31mTypeError\u001b[0m: 'list' object is not callable"
          ]
        }
      ]
    },
    {
      "cell_type": "code",
      "source": [
        "#чему равно среднее значение температуры за неделю;\n",
        "mean = 0 \n",
        "for value in week.values():\n",
        "    mean += value/len(week.values())\n",
        "print(round(mean, 2)) \n"
      ],
      "metadata": {
        "colab": {
          "base_uri": "https://localhost:8080/"
        },
        "id": "eoi0OLSai_D4",
        "outputId": "b7a6a552-528c-4910-b384-ee0b43eb304a"
      },
      "execution_count": null,
      "outputs": [
        {
          "output_type": "stream",
          "name": "stdout",
          "text": [
            "13.74\n"
          ]
        }
      ]
    },
    {
      "cell_type": "code",
      "source": [
        "# чему равно модальное значение (мода) температуры за неделю. В какие дни она наблюдалась?;\n",
        "\n",
        "dict_unique_temp = dict.fromkeys(set(week.values()),0)\n",
        "\n",
        "for key in dict_unique_temp.keys():\n",
        "    dict_unique_temp[key] = list(week.values()).count(key)\n",
        "\n",
        "list_max_count_temp = list()\n",
        "for key, value in dict_unique_temp.items():\n",
        "    if value == max(dict_unique_temp.values()):\n",
        "        list_max_count_temp.append(key)\n",
        "\n",
        "for key, value in week.items():\n",
        "    if value in list_max_count_temp:\n",
        "        print(key)  "
      ],
      "metadata": {
        "id": "6sbSPQN1jz_T"
      },
      "execution_count": null,
      "outputs": []
    },
    {
      "cell_type": "code",
      "source": [
        "# будем считать, что <<день прохладный>>, если температура воздуха строго ниже 14 градусов \n",
        "#по шкале Цельсиа, в противном случае <<день теплый>>. \n",
        "#Выведите список <<прохладных>> и <<теплых>> дней недели.\n",
        "\n",
        "list_days_teplo = list()\n",
        "list_days_xolod = list()\n",
        "\n",
        "for key, value in week.items():\n",
        "    if value > 14:\n",
        "        list_days_teplo.append(key)\n",
        "    else:\n",
        "        list_days_xolod.append(key)\n",
        "print(list_days_teplo, list_days_xolod)"
      ],
      "metadata": {
        "colab": {
          "base_uri": "https://localhost:8080/",
          "height": 244
        },
        "id": "Xd1WFi8Cj4rR",
        "outputId": "d95e0247-806e-4398-dbbd-b3974fac796a"
      },
      "execution_count": null,
      "outputs": [
        {
          "output_type": "error",
          "ename": "TypeError",
          "evalue": "ignored",
          "traceback": [
            "\u001b[0;31m---------------------------------------------------------------------------\u001b[0m",
            "\u001b[0;31mTypeError\u001b[0m                                 Traceback (most recent call last)",
            "\u001b[0;32m<ipython-input-56-6905defcc88b>\u001b[0m in \u001b[0;36m<cell line: 5>\u001b[0;34m()\u001b[0m\n\u001b[1;32m      3\u001b[0m \u001b[0;31m#Выведите список <<прохладных>> и <<теплых>> дней недели.\u001b[0m\u001b[0;34m\u001b[0m\u001b[0;34m\u001b[0m\u001b[0m\n\u001b[1;32m      4\u001b[0m \u001b[0;34m\u001b[0m\u001b[0m\n\u001b[0;32m----> 5\u001b[0;31m \u001b[0mlist_days_teplo\u001b[0m \u001b[0;34m=\u001b[0m \u001b[0mlist\u001b[0m\u001b[0;34m(\u001b[0m\u001b[0;34m)\u001b[0m\u001b[0;34m\u001b[0m\u001b[0;34m\u001b[0m\u001b[0m\n\u001b[0m\u001b[1;32m      6\u001b[0m \u001b[0mlist_days_xolod\u001b[0m \u001b[0;34m=\u001b[0m \u001b[0mlist\u001b[0m\u001b[0;34m(\u001b[0m\u001b[0;34m)\u001b[0m\u001b[0;34m\u001b[0m\u001b[0;34m\u001b[0m\u001b[0m\n\u001b[1;32m      7\u001b[0m \u001b[0;34m\u001b[0m\u001b[0m\n",
            "\u001b[0;31mTypeError\u001b[0m: 'list' object is not callable"
          ]
        }
      ]
    },
    {
      "cell_type": "markdown",
      "source": [
        "Задача 4. Имеются следующие списки\n",
        "```python\n",
        ">>> disc = ['Алгебра', 'Геометрия', 'Топология']\n",
        ">>> student = ['Сидоров', 'Иванов', 'Петров', 'Иванова'] \n",
        ">>> grades_student = [[2, 4, 4], [3, 4, 4], [3, 3, 3], [5, 5, 5]] \n",
        "```\n",
        "Здесь \n",
        "\n",
        "|Список|Комментарий|\n",
        "|--:|:--|\n",
        "|`disc`|Перечень экзаменов по дисциплинам|\n",
        "|`student`|Фамилии студентов|\n",
        "|`grades_student`|Оценки студентов по экзаменам|\n",
        "\n",
        "Необходимо из имеющихся списков:\n",
        "1. С помощью методов `dict()` и `zip()` сформируйте словарь вида\n",
        "```python\n",
        "{'Иванов': [3, 4, 4],\n",
        " 'Иванова': [5, 5, 5],\n",
        " 'Петров': [3, 3, 3],\n",
        " 'Сидоров': [2, 4, 4]}\n",
        "```\n",
        "2. С помощью цикла `for` и метода `enumerate()` cформируйте словарь вида \n",
        "```python\n",
        "{'Иванов': {'Алгебра': 3, 'Геометрия': 4, 'Топология': 4},\n",
        " 'Иванова': {'Алгебра': 5, 'Геометрия': 5, 'Топология': 5},\n",
        " 'Петров': {'Алгебра': 3, 'Геометрия': 3, 'Топология': 3},\n",
        " 'Сидоров': {'Алгебра': 2, 'Геометрия': 4, 'Топология': 4}} \n",
        "```\n",
        "3. В словаре, полученном во 2-м пункте, найдите и распечатайте фамилии <<круглых отличников>> и  студентов, несдавших сессию."
      ],
      "metadata": {
        "id": "yKdgoYFcobK4"
      }
    },
    {
      "cell_type": "code",
      "source": [
        "# Ваш код здесь"
      ],
      "metadata": {
        "id": "N7U5xAcxekHF"
      },
      "execution_count": null,
      "outputs": []
    },
    {
      "cell_type": "code",
      "source": [
        "# С помощью методов dict() и zip() сформируйте словарь\n",
        ">>> disc = ['Алгебра', 'Геометрия', 'Топология']\n",
        ">>> student = ['Сидоров', 'Иванов', 'Петров', 'Иванова'] \n",
        ">>> grades_student = [[2, 4, 4], [3, 4, 4], [3, 3, 3], [5, 5, 5]] \n",
        "\n",
        "d=dict(zip(student, grades_student))\n",
        "print(d)"
      ],
      "metadata": {
        "colab": {
          "base_uri": "https://localhost:8080/"
        },
        "id": "TNamYC76HsEu",
        "outputId": "6a4b12b4-e083-482f-c5a6-d73b6af8d5a2"
      },
      "execution_count": null,
      "outputs": [
        {
          "output_type": "stream",
          "name": "stdout",
          "text": [
            "{'Сидоров': [2, 4, 4], 'Иванов': [3, 4, 4], 'Петров': [3, 3, 3], 'Иванова': [5, 5, 5]}\n"
          ]
        }
      ]
    },
    {
      "cell_type": "code",
      "source": [
        "# С помощью цикла for и метода enumerate() cформируйте словарь вида\n",
        ">>> disc = ['Алгебра', 'Геометрия', 'Топология']\n",
        ">>> student = ['Сидоров', 'Иванов', 'Петров', 'Иванова'] \n",
        ">>> grades_student = [[2, 4, 4], [3, 4, 4], [3, 3, 3], [5, 5, 5]] \n",
        "\n",
        "d = dict.fromkeys(student, 0)\n",
        "for index, key in enumerate(d.keys()):\n",
        "    d[key] = dict(zip(disc, grades_student[index]))\n",
        "d\n",
        "\n"
      ],
      "metadata": {
        "colab": {
          "base_uri": "https://localhost:8080/"
        },
        "id": "gDZ1dgyefvvE",
        "outputId": "c789410f-2085-4b37-8cdb-95e447442d66"
      },
      "execution_count": null,
      "outputs": [
        {
          "output_type": "execute_result",
          "data": {
            "text/plain": [
              "{'Сидоров': {'Алгебра': 2, 'Геометрия': 4, 'Топология': 4},\n",
              " 'Иванов': {'Алгебра': 3, 'Геометрия': 4, 'Топология': 4},\n",
              " 'Петров': {'Алгебра': 3, 'Геометрия': 3, 'Топология': 3},\n",
              " 'Иванова': {'Алгебра': 5, 'Геометрия': 5, 'Топология': 5}}"
            ]
          },
          "metadata": {},
          "execution_count": 42
        }
      ]
    },
    {
      "cell_type": "code",
      "source": [
        "#В словаре, полученном во 2-м пункте, найдите и распечатайте \n",
        "#фамилии <<круглых отличников>> и студентов, несдавших сессию. \n",
        "\n",
        ">>> disc = ['Алгебра', 'Геометрия', 'Топология']\n",
        ">>> student = ['Сидоров', 'Иванов', 'Петров', 'Иванова'] \n",
        ">>> grades_student = [[2, 4, 4], [3, 4, 4], [3, 3, 3], [5, 5, 5]] \n",
        "\n",
        "for key, value in d.items():\n",
        "    if min(value.values()) == 2:\n",
        "        print('Двоечник', key)\n",
        "    elif min(value.values()) == 5:\n",
        "        print('Отличник', key)"
      ],
      "metadata": {
        "colab": {
          "base_uri": "https://localhost:8080/"
        },
        "id": "gNZvYejOf7a-",
        "outputId": "32ab413d-3115-4e45-bc10-3afdfdefd9ec"
      },
      "execution_count": null,
      "outputs": [
        {
          "output_type": "stream",
          "name": "stdout",
          "text": [
            "Двоечник Сидоров\n",
            "Отличник Иванова\n"
          ]
        }
      ]
    },
    {
      "cell_type": "markdown",
      "source": [
        "Задача 5. Целое положительное число из отрезка $[3;50]$ вводится с клавиатуры. Найдите сумму всех положительных четных чисел, строго меньших введенного.\n",
        "\n",
        "Примечание: здесь можно предложить несколько решений, например, только через списки или с использованием циклов. В целях ознакомления и овладения навыками работы с циклами рекомендуется использовать цикл с предусловием `while`."
      ],
      "metadata": {
        "id": "gW6E2_aXtNPW"
      }
    },
    {
      "cell_type": "code",
      "source": [
        "# Ваш код здесь"
      ],
      "metadata": {
        "id": "iT2gCxwdea7y"
      },
      "execution_count": null,
      "outputs": []
    },
    {
      "cell_type": "code",
      "source": [
        "a = 0\n",
        "while True:\n",
        "    if (a>3 and a<50):\n",
        "        break\n",
        "    a = int(input())\n",
        "summa = 0\n",
        "i=0\n",
        "while i<a:\n",
        "  summa+=i\n",
        "  i+=2\n",
        "print(summa)\n",
        "  "
      ],
      "metadata": {
        "colab": {
          "base_uri": "https://localhost:8080/"
        },
        "id": "PIwZ6xleDjQe",
        "outputId": "3f4089d5-b37e-4131-f66d-f5c48f2b2dea"
      },
      "execution_count": null,
      "outputs": [
        {
          "output_type": "stream",
          "name": "stdout",
          "text": [
            "34\n",
            "272\n"
          ]
        }
      ]
    },
    {
      "cell_type": "code",
      "source": [],
      "metadata": {
        "id": "wvyPUWDWDjAN"
      },
      "execution_count": null,
      "outputs": []
    },
    {
      "cell_type": "markdown",
      "source": [
        "Задача 6. Имеется следующий текст:\n",
        "\n",
        "Взвейтесь кострами, синие ночи!\n",
        "\n",
        "Мы пионеры - дети рабочих\n",
        "\n",
        "Близится время светлых годов\n",
        "\n",
        "Клич пионера: \"Всегда будь готов!\"\n",
        "\n",
        "Радостным шагом с песней веселой\n",
        "\n",
        "Мы выступаем за комсомолом\n",
        "\n",
        "Близится время светлых годов\n",
        "\n",
        "Клич пионера: \"Всегда будь готов!\"\n",
        "\n",
        "Мы поднимаем красное знамя\n",
        "\n",
        "Дети рабочих, смело за нами!\n",
        "\n",
        "Близится время светлых годов\n",
        "\n",
        "Клич пионера: \"Всегда будь готов!\"\n",
        "\n",
        "Взвейтесь кострами, синие ночи!\n",
        "\n",
        "Мы пионеры - дети рабочих\n",
        "\n",
        "Близится время светлых годов\n",
        "\n",
        "Клич пионера: \"Всегда будь готов!\"\n",
        "\n",
        "Клич пионера: \"Всегда будь готов!\"\n",
        "\n",
        "Приведите данный текст к нижнему регистру и ответьте на следующие вопросы:\n",
        "- считая символ новой строки `\\n` разделителем, сколько строк в данном тексте;\n",
        "- считая символы `.`, `!` и `?` концом предложения, сколько предложений в данном тексте;\n",
        "- сколько в данном тексте уникальных слов. Разные формы одного и того же слова будет считать уникальными словами;\n",
        "- постройте частотную таблицу для каждого из уникальных слов (сколько раз слово встречалось);   \n",
        "- сколько в данном тексте уникальных букв."
      ],
      "metadata": {
        "id": "pMB2kIzstg_F"
      }
    },
    {
      "cell_type": "code",
      "source": [
        "# Ваш код здесь"
      ],
      "metadata": {
        "id": "o1ne_tvXe_Zk"
      },
      "execution_count": null,
      "outputs": []
    },
    {
      "cell_type": "code",
      "source": [
        "#удалили пустые строки\n",
        "song = \"\"\"\n",
        "Взвейтесь кострами, синие ночи!\n",
        "Мы пионеры - дети рабочих.\n",
        "Близится время светлых годов\n",
        "Клич пионера: \"Всегда будь готов!\"\n",
        "Радостным шагом с песней веселой\n",
        "Мы выступаем за комсомолом\n",
        "Близится время светлых годов\n",
        "Клич пионера: \"Всегда будь готов!\"\n",
        "Мы поднимаем красное знамя?\n",
        "Дети рабочих, смело за нами!\n",
        "Близится время светлых годов\n",
        "Клич пионера: \"Всегда будь готов!\"\n",
        "Взвейтесь кострами, синие ночи!\n",
        "Мы пионеры - дети рабочих.\n",
        "Близится время светлых годов?\n",
        "Клич пионера: \"Всегда будь готов!\"\n",
        "Клич пионера: \"Всегда будь готов!\"\n",
        "\"\"\""
      ],
      "metadata": {
        "id": "Mv6UV-1tcI5s"
      },
      "execution_count": 11,
      "outputs": []
    },
    {
      "cell_type": "code",
      "source": [
        "# считая символ новой строки \\n разделителем, сколько строк в данном тексте;\n",
        "s=\"\"\"\n",
        "Взвейтесь кострами, синие ночи!\n",
        "\n",
        "Мы пионеры - дети рабочих\n",
        "\n",
        "Близится время светлых годов\n",
        "\n",
        "Клич пионера: \"Всегда будь готов!\"\n",
        "\n",
        "Радостным шагом с песней веселой\n",
        "\n",
        "Мы выступаем за комсомолом\n",
        "\n",
        "Близится время светлых годов\n",
        "\n",
        "Клич пионера: \"Всегда будь готов!\"\n",
        "\n",
        "Мы поднимаем красное знамя\n",
        "\n",
        "Дети рабочих, смело за нами!\n",
        "\n",
        "Близится время светлых годов\n",
        "\n",
        "Клич пионера: \"Всегда будь готов!\"\n",
        "\n",
        "Взвейтесь кострами, синие ночи!\n",
        "\n",
        "Мы пионеры - дети рабочих\n",
        "\n",
        "Близится время светлых годов\n",
        "\n",
        "Клич пионера: \"Всегда будь готов!\"\n",
        "\n",
        "Клич пионера: \"Всегда будь готов!\"\n",
        "\"\"\"\n",
        "\n"
      ],
      "metadata": {
        "id": "MgBRDWzFmDL4"
      },
      "execution_count": 14,
      "outputs": []
    },
    {
      "cell_type": "code",
      "source": [
        "print('В исходном тексте {} строк.'.format(len(song.lower().strip().split('\\n'))))\n",
        "\n"
      ],
      "metadata": {
        "colab": {
          "base_uri": "https://localhost:8080/"
        },
        "id": "x20TI8uU1Ggo",
        "outputId": "3abaab4a-c58d-48f8-e5cc-be9bbea64e6f"
      },
      "execution_count": 15,
      "outputs": [
        {
          "output_type": "stream",
          "name": "stdout",
          "text": [
            "В исходном тексте 17 строк.\n"
          ]
        }
      ]
    },
    {
      "cell_type": "code",
      "source": [
        "#считая символы ., ! и ? концом предложения, сколько предложений в данном тексте;\n",
        "symbol_end = ['.', '!', '?']\n",
        "song = song.lower()\n",
        "count_p = 0\n",
        "for symbol in symbol_end:\n",
        "    count_p += song.count(symbol) \n",
        "print(count_p)"
      ],
      "metadata": {
        "colab": {
          "base_uri": "https://localhost:8080/"
        },
        "id": "PYyNW0HubMea",
        "outputId": "eec07efe-636f-4d27-d5a0-325f749b19cb"
      },
      "execution_count": 16,
      "outputs": [
        {
          "output_type": "stream",
          "name": "stdout",
          "text": [
            "12\n"
          ]
        }
      ]
    },
    {
      "cell_type": "code",
      "source": [
        "#постройте частотную таблицу для каждого из уникальных слов (сколько раз слово встречалось);\n",
        "song = song.lower()\n",
        "for symbol in punk:\n",
        "    song = song.replace(symbol,'')\n",
        "\n",
        "dict_word_count = dict.fromkeys(set_word, 0)\n",
        "for key in dict_word_count.keys():\n",
        "     dict_word_count[key] = song.lower().split().count(key)\n",
        "print(dict_word_count)"
      ],
      "metadata": {
        "colab": {
          "base_uri": "https://localhost:8080/"
        },
        "id": "MqeL85IFbZz7",
        "outputId": "6d166d9a-91ec-4097-a7fe-5563a2f97c75"
      },
      "execution_count": 20,
      "outputs": [
        {
          "output_type": "stream",
          "name": "stdout",
          "text": [
            "{'дети': 3, 'время': 4, 'пионера': 5, 'комсомолом': 1, 'всегда': 5, 'поднимаем': 1, 'взвейтесь': 2, 'выступаем': 1, 'знамя': 1, 'годов': 4, 'кострами': 2, 'мы': 4, 'клич': 5, 'красное': 1, 'рабочих': 3, 'радостным': 1, 'с': 1, 'пионеры': 2, 'веселой': 1, 'шагом': 1, 'песней': 1, 'светлых': 4, 'ночи': 2, 'готов': 5, 'за': 2, 'нами': 1, 'синие': 2, 'близится': 4, 'смело': 1, 'будь': 5}\n"
          ]
        }
      ]
    },
    {
      "cell_type": "code",
      "source": [
        "#сколько в данном тексте уникальных слов. Разные формы одного и того же слова будет считать уникальными словами;\n",
        "punk = ['!', '(', ')', '-', '[', ']', '{', '}', \n",
        "        ';', '?', ':', ',', '.', '\"', \"'\"]\n",
        "\n",
        "set_word = set()\n",
        "\n",
        "for symbol in punk:\n",
        "    song = song.replace(symbol,'')\n",
        "\n",
        "for word in song.split():\n",
        "    set_word.add(word.strip())\n",
        "print(len(set_word))"
      ],
      "metadata": {
        "colab": {
          "base_uri": "https://localhost:8080/"
        },
        "id": "0npKewjVbUJ2",
        "outputId": "62cd3339-d64a-4896-c4c6-0280066ad836"
      },
      "execution_count": 18,
      "outputs": [
        {
          "output_type": "stream",
          "name": "stdout",
          "text": [
            "30\n"
          ]
        }
      ]
    },
    {
      "cell_type": "code",
      "source": [
        "#сколько в данном тексте уникальных букв.\n",
        "\n",
        "set_unique_a = set()\n",
        "\n",
        "for key in dict_word_count.keys():\n",
        "    set_unique_a = set_unique_a.union(set(key))\n",
        "    \n",
        "print(len(set_unique_a))"
      ],
      "metadata": {
        "colab": {
          "base_uri": "https://localhost:8080/"
        },
        "id": "dcrgfNSrbh3p",
        "outputId": "11e16170-579a-4edb-dc50-d9ded71d8bd9"
      },
      "execution_count": 21,
      "outputs": [
        {
          "output_type": "stream",
          "name": "stdout",
          "text": [
            "25\n"
          ]
        }
      ]
    },
    {
      "cell_type": "code",
      "source": [],
      "metadata": {
        "id": "fRNfEiR-e--C"
      },
      "execution_count": null,
      "outputs": []
    }
  ]
}